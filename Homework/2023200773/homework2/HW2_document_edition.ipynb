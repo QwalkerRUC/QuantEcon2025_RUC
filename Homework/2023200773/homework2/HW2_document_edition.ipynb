{
 "cells": [
  {
   "metadata": {},
   "cell_type": "markdown",
   "source": [
    "## University Application Letter Generator_document\n",
    "\n",
    "Yanjun Qian 2023200773"
   ],
   "id": "aa052886ae2a5f7b"
  },
  {
   "metadata": {},
   "cell_type": "code",
   "outputs": [],
   "execution_count": null,
   "source": [
    "import openpyxl\n",
    "from docx import Document\n",
    "import os\n",
    "\n",
    "#path preparation\n",
    "excel_path=\"D:/大二下/python/HW2/name_program.xlsx\"\n",
    "word_path=\"D:/大二下/python/HW2/MS_word2.docx\"\n",
    "output_dir=\"D:/大二下/python/HW2\""
   ],
   "id": "ef2b554f238e6d5c"
  },
  {
   "metadata": {},
   "cell_type": "code",
   "outputs": [],
   "execution_count": null,
   "source": [
    "\n",
    "def letter_generator(excel_path,word_path,output_dir):\n",
    "    #read excel\n",
    "    name_proogram=openpyxl.load_workbook(excel_path)\n",
    "    sheet=name_proogram.active\n",
    "    headers=[cell.value for cell in sheet[1]]\n",
    "\n",
    "    #output\n",
    "    os.makedirs(output_dir, exist_ok=True)\n",
    "\n",
    "    #match words\n",
    "    for row in sheet.iter_rows(min_row=2, values_only=True):\n",
    "            data = dict(zip(headers, row))\n",
    "            filename = data[\"name\"]\n",
    "            #major123\n",
    "            for i in headers[1::]:\n",
    "                data[\"major\"]=data[i]\n",
    "                major=data[\"major\"]\n",
    "                #word part\n",
    "                doc=Document(word_path)\n",
    "                for paragraph in doc.paragraphs:\n",
    "                    for key, value in data.items():\n",
    "                        placeholder = f\"{{{{${key}}}}}\"\n",
    "                        if placeholder in paragraph.text:\n",
    "                            paragraph.text = paragraph.text.replace(placeholder, str(value))\n",
    "                output_path = os.path.join(output_dir, f\"{filename}+{major}.docx\")\n",
    "                doc.save(output_path)\n",
    "                print(f\"已生成：{output_path}\")\n"
   ],
   "id": "1f0c41f81be06ac3"
  },
  {
   "metadata": {},
   "cell_type": "code",
   "outputs": [],
   "execution_count": null,
   "source": "letter_generator(excel_path,word_path,output_dir)",
   "id": "1e70785e258ca600"
  }
 ],
 "metadata": {
  "kernelspec": {
   "display_name": "Python 3",
   "language": "python",
   "name": "python3"
  },
  "language_info": {
   "codemirror_mode": {
    "name": "ipython",
    "version": 2
   },
   "file_extension": ".py",
   "mimetype": "text/x-python",
   "name": "python",
   "nbconvert_exporter": "python",
   "pygments_lexer": "ipython2",
   "version": "2.7.6"
  }
 },
 "nbformat": 4,
 "nbformat_minor": 5
}
