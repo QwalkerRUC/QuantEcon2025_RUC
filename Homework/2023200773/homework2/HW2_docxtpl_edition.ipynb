{
 "cells": [
  {
   "metadata": {},
   "cell_type": "markdown",
   "source": [
    "## University Application Letter Generator_docxtpl\n",
    "\n",
    "Yanjun Qian 2023200773"
   ],
   "id": "8a77807f92f26ee"
  },
  {
   "metadata": {
    "ExecuteTime": {
     "end_time": "2025-03-09T12:00:53.957250Z",
     "start_time": "2025-03-09T12:00:16.936508Z"
    }
   },
   "cell_type": "code",
   "source": [
    "from docxtpl import DocxTemplate\n",
    "import pandas as pd\n",
    "import os\n",
    "from docx2pdf import convert\n",
    "#path input\n",
    "doc = DocxTemplate(\"D:/大二下/python/HW2/MS_word2.docx\")\n",
    "data=pd.read_excel(\"D:/大二下/python/HW2/name_program.xlsx\")\n",
    "output_dir=\"D:/大二下/python/HW2/word_90\"\n",
    "output_dir_pdf=\"D:/大二下/python/HW2/pdf_90\"\n",
    "\n",
    "\n",
    "for i in range(0,len(data)):\n",
    "    for j in range(1,len(data.columns)):\n",
    "        #create dic\n",
    "       context={\"name\":data.iloc[i,0],\"major\":data.iloc[i,j]}\n",
    "       filename=context.get(\"name\")\n",
    "       major=context.get(\"major\")\n",
    "        #change\n",
    "       doc.render(context)\n",
    "        #rename+save\n",
    "       output_path = os.path.join(output_dir, f\"{filename}+{major}.docx\")\n",
    "       doc.save(output_path)\n",
    "       print(f\"已生成：{output_path}\")\n",
    "#covert to pdf\n",
    "convert(output_dir, output_dir_pdf)\n",
    "\n",
    "\n",
    "\n"
   ],
   "id": "e2be763d37509272",
   "outputs": [
    {
     "name": "stdout",
     "output_type": "stream",
     "text": [
      "已生成：D:/大二下/python/HW2/word_90\\Harvard University+MA in Economics Department.docx\n",
      "已生成：D:/大二下/python/HW2/word_90\\Harvard University+MA in Data Science.docx\n",
      "已生成：D:/大二下/python/HW2/word_90\\Harvard University+PhD in Statistics.docx\n",
      "已生成：D:/大二下/python/HW2/word_90\\Massachusetts Institute of Technology+MA in Economics Department.docx\n",
      "已生成：D:/大二下/python/HW2/word_90\\Massachusetts Institute of Technology+MA in Data Science.docx\n",
      "已生成：D:/大二下/python/HW2/word_90\\Massachusetts Institute of Technology+PhD in Statistics.docx\n",
      "已生成：D:/大二下/python/HW2/word_90\\University of California-Berkeley+MA in Economics Department.docx\n",
      "已生成：D:/大二下/python/HW2/word_90\\University of California-Berkeley+MA in Data Science.docx\n",
      "已生成：D:/大二下/python/HW2/word_90\\University of California-Berkeley+PhD in Statistics.docx\n",
      "已生成：D:/大二下/python/HW2/word_90\\University of Chicago+MA in Economics Department.docx\n",
      "已生成：D:/大二下/python/HW2/word_90\\University of Chicago+MA in Data Science.docx\n",
      "已生成：D:/大二下/python/HW2/word_90\\University of Chicago+PhD in Statistics.docx\n",
      "已生成：D:/大二下/python/HW2/word_90\\Paris School of Economics+MA in Economics Department.docx\n",
      "已生成：D:/大二下/python/HW2/word_90\\Paris School of Economics+MA in Data Science.docx\n",
      "已生成：D:/大二下/python/HW2/word_90\\Paris School of Economics+PhD in Statistics.docx\n",
      "已生成：D:/大二下/python/HW2/word_90\\Princeton University+MA in Economics Department.docx\n",
      "已生成：D:/大二下/python/HW2/word_90\\Princeton University+MA in Data Science.docx\n",
      "已生成：D:/大二下/python/HW2/word_90\\Princeton University+PhD in Statistics.docx\n",
      "已生成：D:/大二下/python/HW2/word_90\\Stanford University+MA in Economics Department.docx\n",
      "已生成：D:/大二下/python/HW2/word_90\\Stanford University+MA in Data Science.docx\n",
      "已生成：D:/大二下/python/HW2/word_90\\Stanford University+PhD in Statistics.docx\n",
      "已生成：D:/大二下/python/HW2/word_90\\Toulouse School of Economics+MA in Economics Department.docx\n",
      "已生成：D:/大二下/python/HW2/word_90\\Toulouse School of Economics+MA in Data Science.docx\n",
      "已生成：D:/大二下/python/HW2/word_90\\Toulouse School of Economics+PhD in Statistics.docx\n",
      "已生成：D:/大二下/python/HW2/word_90\\Oxford University+MA in Economics Department.docx\n",
      "已生成：D:/大二下/python/HW2/word_90\\Oxford University+MA in Data Science.docx\n",
      "已生成：D:/大二下/python/HW2/word_90\\Oxford University+PhD in Statistics.docx\n",
      "已生成：D:/大二下/python/HW2/word_90\\Yale University+MA in Economics Department.docx\n",
      "已生成：D:/大二下/python/HW2/word_90\\Yale University+MA in Data Science.docx\n",
      "已生成：D:/大二下/python/HW2/word_90\\Yale University+PhD in Statistics.docx\n",
      "已生成：D:/大二下/python/HW2/word_90\\Barcelona School of Economics+MA in Economics Department.docx\n",
      "已生成：D:/大二下/python/HW2/word_90\\Barcelona School of Economics+MA in Data Science.docx\n",
      "已生成：D:/大二下/python/HW2/word_90\\Barcelona School of Economics+PhD in Statistics.docx\n",
      "已生成：D:/大二下/python/HW2/word_90\\Columbia University+MA in Economics Department.docx\n",
      "已生成：D:/大二下/python/HW2/word_90\\Columbia University+MA in Data Science.docx\n",
      "已生成：D:/大二下/python/HW2/word_90\\Columbia University+PhD in Statistics.docx\n",
      "已生成：D:/大二下/python/HW2/word_90\\New York University+MA in Economics Department.docx\n",
      "已生成：D:/大二下/python/HW2/word_90\\New York University+MA in Data Science.docx\n",
      "已生成：D:/大二下/python/HW2/word_90\\New York University+PhD in Statistics.docx\n",
      "已生成：D:/大二下/python/HW2/word_90\\Brown University+MA in Economics Department.docx\n",
      "已生成：D:/大二下/python/HW2/word_90\\Brown University+MA in Data Science.docx\n",
      "已生成：D:/大二下/python/HW2/word_90\\Brown University+PhD in Statistics.docx\n",
      "已生成：D:/大二下/python/HW2/word_90\\University of Pennsylvania+MA in Economics Department.docx\n",
      "已生成：D:/大二下/python/HW2/word_90\\University of Pennsylvania+MA in Data Science.docx\n",
      "已生成：D:/大二下/python/HW2/word_90\\University of Pennsylvania+PhD in Statistics.docx\n",
      "已生成：D:/大二下/python/HW2/word_90\\Boston University+MA in Economics Department.docx\n",
      "已生成：D:/大二下/python/HW2/word_90\\Boston University+MA in Data Science.docx\n",
      "已生成：D:/大二下/python/HW2/word_90\\Boston University+PhD in Statistics.docx\n",
      "已生成：D:/大二下/python/HW2/word_90\\London School of Economics+MA in Economics Department.docx\n",
      "已生成：D:/大二下/python/HW2/word_90\\London School of Economics+MA in Data Science.docx\n",
      "已生成：D:/大二下/python/HW2/word_90\\London School of Economics+PhD in Statistics.docx\n",
      "已生成：D:/大二下/python/HW2/word_90\\University College London+MA in Economics Department.docx\n",
      "已生成：D:/大二下/python/HW2/word_90\\University College London+MA in Data Science.docx\n",
      "已生成：D:/大二下/python/HW2/word_90\\University College London+PhD in Statistics.docx\n",
      "已生成：D:/大二下/python/HW2/word_90\\University of California-San Diego+MA in Economics Department.docx\n",
      "已生成：D:/大二下/python/HW2/word_90\\University of California-San Diego+MA in Data Science.docx\n",
      "已生成：D:/大二下/python/HW2/word_90\\University of California-San Diego+PhD in Statistics.docx\n",
      "已生成：D:/大二下/python/HW2/word_90\\Northwestern University+MA in Economics Department.docx\n",
      "已生成：D:/大二下/python/HW2/word_90\\Northwestern University+MA in Data Science.docx\n",
      "已生成：D:/大二下/python/HW2/word_90\\Northwestern University+PhD in Statistics.docx\n",
      "已生成：D:/大二下/python/HW2/word_90\\Dartmouth College+MA in Economics Department.docx\n",
      "已生成：D:/大二下/python/HW2/word_90\\Dartmouth College+MA in Data Science.docx\n",
      "已生成：D:/大二下/python/HW2/word_90\\Dartmouth College+PhD in Statistics.docx\n",
      "已生成：D:/大二下/python/HW2/word_90\\University of Michigan+MA in Economics Department.docx\n",
      "已生成：D:/大二下/python/HW2/word_90\\University of Michigan+MA in Data Science.docx\n",
      "已生成：D:/大二下/python/HW2/word_90\\University of Michigan+PhD in Statistics.docx\n",
      "已生成：D:/大二下/python/HW2/word_90\\Universiteit van Tilburg+MA in Economics Department.docx\n",
      "已生成：D:/大二下/python/HW2/word_90\\Universiteit van Tilburg+MA in Data Science.docx\n",
      "已生成：D:/大二下/python/HW2/word_90\\Universiteit van Tilburg+PhD in Statistics.docx\n",
      "已生成：D:/大二下/python/HW2/word_90\\University of California-Los Angeles+MA in Economics Department.docx\n",
      "已生成：D:/大二下/python/HW2/word_90\\University of California-Los Angeles+MA in Data Science.docx\n",
      "已生成：D:/大二下/python/HW2/word_90\\University of California-Los Angeles+PhD in Statistics.docx\n",
      "已生成：D:/大二下/python/HW2/word_90\\Columbia University+MA in Economics Department.docx\n",
      "已生成：D:/大二下/python/HW2/word_90\\Columbia University+MA in Data Science.docx\n",
      "已生成：D:/大二下/python/HW2/word_90\\Columbia University+PhD in Statistics.docx\n",
      "已生成：D:/大二下/python/HW2/word_90\\University of Southern California+MA in Economics Department.docx\n",
      "已生成：D:/大二下/python/HW2/word_90\\University of Southern California+MA in Data Science.docx\n",
      "已生成：D:/大二下/python/HW2/word_90\\University of Southern California+PhD in Statistics.docx\n",
      "已生成：D:/大二下/python/HW2/word_90\\University of British Columbia+MA in Economics Department.docx\n",
      "已生成：D:/大二下/python/HW2/word_90\\University of British Columbia+MA in Data Science.docx\n",
      "已生成：D:/大二下/python/HW2/word_90\\University of British Columbia+PhD in Statistics.docx\n",
      "已生成：D:/大二下/python/HW2/word_90\\University of Wisconsin-Madison+MA in Economics Department.docx\n",
      "已生成：D:/大二下/python/HW2/word_90\\University of Wisconsin-Madison+MA in Data Science.docx\n",
      "已生成：D:/大二下/python/HW2/word_90\\University of Wisconsin-Madison+PhD in Statistics.docx\n",
      "已生成：D:/大二下/python/HW2/word_90\\University of Toronto+MA in Economics Department.docx\n",
      "已生成：D:/大二下/python/HW2/word_90\\University of Toronto+MA in Data Science.docx\n",
      "已生成：D:/大二下/python/HW2/word_90\\University of Toronto+PhD in Statistics.docx\n",
      "已生成：D:/大二下/python/HW2/word_90\\Duke University+MA in Economics Department.docx\n",
      "已生成：D:/大二下/python/HW2/word_90\\Duke University+MA in Data Science.docx\n",
      "已生成：D:/大二下/python/HW2/word_90\\Duke University+PhD in Statistics.docx\n"
     ]
    },
    {
     "data": {
      "text/plain": [
       "  0%|          | 0/87 [00:00<?, ?it/s]"
      ],
      "application/vnd.jupyter.widget-view+json": {
       "version_major": 2,
       "version_minor": 0,
       "model_id": "2b44d861936b47b7a5a80e6457c3acae"
      }
     },
     "metadata": {},
     "output_type": "display_data"
    }
   ],
   "execution_count": 33
  }
 ],
 "metadata": {
  "kernelspec": {
   "display_name": "Python 3",
   "language": "python",
   "name": "python3"
  },
  "language_info": {
   "codemirror_mode": {
    "name": "ipython",
    "version": 2
   },
   "file_extension": ".py",
   "mimetype": "text/x-python",
   "name": "python",
   "nbconvert_exporter": "python",
   "pygments_lexer": "ipython2",
   "version": "2.7.6"
  }
 },
 "nbformat": 4,
 "nbformat_minor": 5
}
