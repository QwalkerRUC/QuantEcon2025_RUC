{
 "cells": [
  {
   "cell_type": "markdown",
   "id": "aff16843-958d-433c-8768-ac583b3446b1",
   "metadata": {},
   "source": [
    "# University Applications Letters Generator \n",
    "\n",
    "- Purpose: when we try to apply graduate schools, the statement of purpose will take us tremendous time. If we turn to the application agencies, they will charge tens of thousands of CNY. Also, the agencies always make ***mistakes***.\n",
    "\n",
    "- Work:  use python to generate 100 copies of state of purpose efficiently\n",
    "\n",
    "- Details:\n",
    "    - step1 : generate a application letter template by using your own unique stories, then polish by using ChatGPT or Deepseek\n",
    "    - step2 : then you get a MS Word template (one pager)\n",
    "    - step3 : create a excel file with list of 30 universities from econ department ranking by and you only keep the university names\n",
    "    (https://ideas.repec.org/top/top.econdept.html)\n",
    "    - step4 : Put the 3 programs you want to apply for each university you want to apply [\"MA in economics \", \"MA in statistics \",\"PhD in data science\"] as the Excel file example below (no need to be same as mine)\n",
    "    - step5 : Using Python to loop over the Universities and Programs aforementioned to fill the template.\n",
    "    - step6 : use docxtpl to generate the MS Word document\n",
    "    - step7 : use docx2pdf to generate the PDF document (only for the windows users)\n",
    "    - step8 : upload your codes and `only 1 copy` of PDF or WORD to ***Github*** by next class   \n",
    "    \n",
    "Excel File:\n",
    "\n",
    "| University Names     | Major1               | Major2       | Major3     |\n",
    "|----------------------|----------------------|--------------|------------|\n",
    "| Harvard University   | MA in Economics Department | MA in Data Science | PhD in Statistics |\n",
    "| MIT                  | MA in Economics Department | MA in Data Science | PhD in Statistics |\n",
    "| Princeton University | MA in Economics Department | MA in Data Science | PhD in Statistics |\n",
    "\n",
    "\n",
    "Template:\n",
    "\n",
    "``` python\n",
    "\"\"\"\n",
    "Dear admission committe,\n",
    "My name is Ray Ge, and I am writing to express my sincere interest in applying for admission to the Economics Department at Renmin University of China. Renmin University’s reputation for academic excellence, particularly in the field of economics, aligns perfectly with my academic aspirations and career goals.\n",
    "\n",
    "...\n",
    "\"\"\"\n",
    "``` \n",
    "\n",
    "- TOOLS: function, loop, docxtpl, docx2pdf\n",
    "- Results: you get a 90 copies of statement of purpose"
   ]
  },
  {
   "cell_type": "code",
   "execution_count": null,
   "id": "d0152190-007a-4e7f-8ecd-afd09bccd183",
   "metadata": {},
   "outputs": [],
   "source": []
  }
 ],
 "metadata": {
  "kernelspec": {
   "display_name": "work",
   "language": "python",
   "name": "python3"
  },
  "language_info": {
   "codemirror_mode": {
    "name": "ipython",
    "version": 3
   },
   "file_extension": ".py",
   "mimetype": "text/x-python",
   "name": "python",
   "nbconvert_exporter": "python",
   "pygments_lexer": "ipython3",
   "version": "3.9.13"
  }
 },
 "nbformat": 4,
 "nbformat_minor": 5
}
